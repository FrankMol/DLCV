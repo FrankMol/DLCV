{
 "cells": [
  {
   "cell_type": "code",
   "execution_count": 2,
   "metadata": {},
   "outputs": [
    {
     "name": "stdout",
     "output_type": "stream",
     "text": [
      "[[84, 48, 69], [73, 76, 38], [75, 63, 41]]\n"
     ]
    }
   ],
   "source": [
    "import numpy as np\n",
    "I = [[8, 6, 2, 7], [6, 2, 4, 1], [5, 8, 5, 2], [3, 0, 3, 2]]\n",
    "K = [[4, 3], [7, 2]]\n",
    "\n",
    "\n",
    "K = np.flipud(np.fliplr(K))\n",
    "answer = [[0,0,0],[0,0,0],[0,0,0]]\n",
    "for i in range(0,3):\n",
    "  for j in range(0,3):\n",
    "    answer[i][j] = round((I[i][j]*K[0][0] + I[i+1][j]*K[1][0] + I[i][j+1]*K[0][1] + I[i+1][j+1]*K[1][1]))\n",
    "print(answer)"
   ]
  },
  {
   "cell_type": "code",
   "execution_count": null,
   "metadata": {},
   "outputs": [],
   "source": []
  }
 ],
 "metadata": {
  "kernelspec": {
   "display_name": "Python 3",
   "language": "python",
   "name": "python3"
  },
  "language_info": {
   "codemirror_mode": {
    "name": "ipython",
    "version": 3
   },
   "file_extension": ".py",
   "mimetype": "text/x-python",
   "name": "python",
   "nbconvert_exporter": "python",
   "pygments_lexer": "ipython3",
   "version": "3.6.5"
  }
 },
 "nbformat": 4,
 "nbformat_minor": 2
}
